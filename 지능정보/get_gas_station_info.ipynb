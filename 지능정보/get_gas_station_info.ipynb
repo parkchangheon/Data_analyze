{
 "cells": [
  {
   "cell_type": "markdown",
   "metadata": {},
   "source": [
    "# 10주차: 인천시 구별 주유소 가격 정보 가져오기"
   ]
  },
  {
   "cell_type": "code",
   "execution_count": 15,
   "metadata": {},
   "outputs": [],
   "source": [
    "from selenium import webdriver"
   ]
  },
  {
   "cell_type": "code",
   "execution_count": 16,
   "metadata": {},
   "outputs": [],
   "source": [
    "# 경로명 변경!!! (USER_NAME 부분을 각자 사용자 계정명으로 변경)\n",
    "driver = webdriver.Chrome(r\"C:\\Users\\USER_NAME\\Downloads\\chromedriver_win32\\chromedriver.exe\")"
   ]
  },
  {
   "cell_type": "code",
   "execution_count": 17,
   "metadata": {},
   "outputs": [],
   "source": [
    "# 조회 화면 접속하기\n",
    "main_url = \"https://www.opinet.co.kr/user/main/mainView.do\"\n",
    "driver.get(main_url)\n",
    "url = \"https://www.opinet.co.kr/searRgSelect.do\"\n",
    "driver.get(url)"
   ]
  },
  {
   "cell_type": "code",
   "execution_count": 18,
   "metadata": {},
   "outputs": [],
   "source": [
    "# 지역: 인천\n",
    "city_xpath = '//*[@id=\"SIDO_NM0\"]'\n",
    "driver.find_element_by_xpath(city_xpath).send_keys('인천')"
   ]
  },
  {
   "cell_type": "code",
   "execution_count": 19,
   "metadata": {},
   "outputs": [],
   "source": [
    "# 지역 연수구\n",
    "gu_xpath = '//*[@id=\"SIGUNGU_NM0\"]'\n",
    "driver.find_element_by_xpath(gu_xpath).send_keys('연수구')"
   ]
  },
  {
   "cell_type": "code",
   "execution_count": 21,
   "metadata": {},
   "outputs": [],
   "source": [
    "# 조회 버튼 클릭하기\n",
    "search_button = '//*[@id=\"searRgSelect\"]'\n",
    "driver.find_element_by_xpath(search_button).click()"
   ]
  },
  {
   "cell_type": "code",
   "execution_count": 35,
   "metadata": {},
   "outputs": [],
   "source": [
    "# 엑셀저장 버튼 클릭하기\n",
    "save_excel_button = '//*[@id=\"glopopd_excel\"]'\n",
    "driver.find_element_by_xpath(save_excel_button).click()"
   ]
  },
  {
   "cell_type": "markdown",
   "metadata": {},
   "source": [
    "## 다운로드 폴더 설정"
   ]
  },
  {
   "cell_type": "code",
   "execution_count": 59,
   "metadata": {},
   "outputs": [],
   "source": [
    "from selenium import webdriver\n",
    "\n",
    "# 경로명 변경!!! (USER_NAME 부분을 각자 사용자 계정명으로 변경)\n",
    "opts = webdriver.ChromeOptions()\n",
    "opts.add_experimental_option('prefs', {\n",
    "    'download.default_directory': r\"C:\\Users\\USER_NAME\\Exercises\\Week10\"\n",
    "})\n",
    "\n",
    "driver = webdriver.Chrome(r\"C:\\Users\\USER_NAME\\Downloads\\chromedriver_win32\\chromedriver.exe\", options=opts)"
   ]
  },
  {
   "cell_type": "markdown",
   "metadata": {},
   "source": [
    "## 인천시 구 이름 가져오기"
   ]
  },
  {
   "cell_type": "code",
   "execution_count": 63,
   "metadata": {},
   "outputs": [
    {
     "name": "stdout",
     "output_type": "stream",
     "text": [
      "시/군/구\n",
      "강화군\n",
      "계양구\n",
      "남동구\n",
      "동구\n",
      "미추홀구\n",
      "부평구\n",
      "서구\n",
      "연수구\n",
      "옹진군\n",
      "중구\n"
     ]
    }
   ],
   "source": [
    "gu_xpath = '//*[@id=\"SIGUNGU_NM0\"]'\n",
    "gu_list_raw = driver.find_element_by_xpath(gu_xpath)\n",
    "gu_list = gu_list_raw.find_elements_by_tag_name(\"option\")\n",
    "for g in gu_list:\n",
    "    print(g.text)"
   ]
  },
  {
   "cell_type": "code",
   "execution_count": 64,
   "metadata": {},
   "outputs": [
    {
     "name": "stdout",
     "output_type": "stream",
     "text": [
      "['강화군', '계양구', '남동구', '동구', '미추홀구', '부평구', '서구', '연수구', '옹진군', '중구']\n"
     ]
    }
   ],
   "source": [
    "gu_names = []\n",
    "for i in range(len(gu_list)):\n",
    "    if i > 0:\n",
    "        gu_names.append(gu_list[i].text)\n",
    "print(gu_names)"
   ]
  },
  {
   "cell_type": "markdown",
   "metadata": {},
   "source": [
    "## 구 이름 변경하여 값 가져오기"
   ]
  },
  {
   "cell_type": "code",
   "execution_count": 69,
   "metadata": {},
   "outputs": [
    {
     "data": {
      "application/vnd.jupyter.widget-view+json": {
       "model_id": "bb3fa56460384c7ca24a0c3b2ea66087",
       "version_major": 2,
       "version_minor": 0
      },
      "text/plain": [
       "HBox(children=(FloatProgress(value=0.0, max=10.0), HTML(value='')))"
      ]
     },
     "metadata": {},
     "output_type": "display_data"
    },
    {
     "name": "stdout",
     "output_type": "stream",
     "text": [
      "강화군\n",
      "계양구\n",
      "남동구\n",
      "동구\n",
      "미추홀구\n",
      "부평구\n",
      "서구\n",
      "연수구\n",
      "옹진군\n",
      "중구\n",
      "\n"
     ]
    }
   ],
   "source": [
    "import time\n",
    "from tqdm.notebook import tqdm\n",
    "\n",
    "for i in tqdm(range(len(gu_names))):\n",
    "    print(gu_names[i])\n",
    "    # 지역 연수구\n",
    "    gu_xpath = '//*[@id=\"SIGUNGU_NM0\"]'\n",
    "    driver.find_element_by_xpath(gu_xpath).send_keys(gu_names[i])\n",
    "\n",
    "    time.sleep(3)\n",
    "    \n",
    "    # 조회 버튼 클릭하기\n",
    "    search_button = '//*[@id=\"searRgSelect\"]'\n",
    "    driver.find_element_by_xpath(search_button).click()\n",
    "\n",
    "    time.sleep(3)\n",
    "    \n",
    "    # 엑셀저장 버튼 클릭하기\n",
    "    save_excel_button = '//*[@id=\"glopopd_excel\"]'\n",
    "    driver.find_element_by_xpath(save_excel_button).click()\n",
    "\n",
    "    time.sleep(3)"
   ]
  },
  {
   "cell_type": "code",
   "execution_count": 70,
   "metadata": {},
   "outputs": [],
   "source": [
    "# 크롬 드라이버 닫기\n",
    "driver.close()"
   ]
  }
 ],
 "metadata": {
  "kernelspec": {
   "display_name": "Python 3",
   "language": "python",
   "name": "python3"
  },
  "language_info": {
   "codemirror_mode": {
    "name": "ipython",
    "version": 3
   },
   "file_extension": ".py",
   "mimetype": "text/x-python",
   "name": "python",
   "nbconvert_exporter": "python",
   "pygments_lexer": "ipython3",
   "version": "3.8.3"
  }
 },
 "nbformat": 4,
 "nbformat_minor": 4
}
